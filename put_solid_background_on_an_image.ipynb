{
  "nbformat": 4,
  "nbformat_minor": 0,
  "metadata": {
    "colab": {
      "provenance": [],
      "authorship_tag": "ABX9TyNQExQhxmV/xvpdzGqmtSYi",
      "include_colab_link": true
    },
    "kernelspec": {
      "name": "python3",
      "display_name": "Python 3"
    },
    "language_info": {
      "name": "python"
    }
  },
  "cells": [
    {
      "cell_type": "markdown",
      "metadata": {
        "id": "view-in-github",
        "colab_type": "text"
      },
      "source": [
        "<a href=\"https://colab.research.google.com/github/tanjimmostafa/add-solid-background-on-image/blob/main/put_solid_background_on_an_image.ipynb\" target=\"_parent\"><img src=\"https://colab.research.google.com/assets/colab-badge.svg\" alt=\"Open In Colab\"/></a>"
      ]
    },
    {
      "cell_type": "code",
      "execution_count": null,
      "metadata": {
        "colab": {
          "base_uri": "https://localhost:8080/"
        },
        "id": "oGca94pZJaZb",
        "outputId": "40a2bf3e-7461-404f-8db4-0220193e8699"
      },
      "outputs": [
        {
          "output_type": "stream",
          "name": "stdout",
          "text": [
            "Image saved as image_with_background.png\n"
          ]
        }
      ],
      "source": [
        "# prompt: add background on a image where the user gives the image and the color code of the background\n",
        "\n",
        "from PIL import Image\n",
        "\n",
        "def add_background(image_path, background_color):\n",
        "    \"\"\"Adds a background color to an image.\n",
        "\n",
        "    Args:\n",
        "        image_path: The path to the image file.\n",
        "        background_color: The background color in hex format (e.g., \"#FF0000\" for red).\n",
        "    \"\"\"\n",
        "    try:\n",
        "        img = Image.open(image_path)\n",
        "        background = Image.new(\"RGB\", img.size, background_color)\n",
        "        background.paste(img, mask=img.split()[3])  # Use alpha channel as mask if available\n",
        "        background.save(\"image_with_background.png\")\n",
        "        print(\"Image saved as image_with_background.png\")\n",
        "    except FileNotFoundError:\n",
        "        print(f\"Error: Image file not found at {image_path}\")\n",
        "    except Exception as e:\n",
        "        print(f\"An error occurred: {e}\")\n",
        "\n",
        "# Example usage\n",
        "image_path = \"/content/26231920_730670460461321_2793335638907086792_o-removebg-preview.png\" # Replace \"your_image.png\" with your image file path\n",
        "background_color = \"#d5dee6\"  # Blue background\n",
        "add_background(image_path, background_color)\n"
      ]
    }
  ]
}